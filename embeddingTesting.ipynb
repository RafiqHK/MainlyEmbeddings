{
 "cells": [
  {
   "cell_type": "code",
   "execution_count": 1,
   "id": "33088296",
   "metadata": {},
   "outputs": [],
   "source": [
    "import os\n",
    "\n",
    "api = os.getenv(\"OPEN_ROUTER_API\")"
   ]
  },
  {
   "cell_type": "code",
   "execution_count": 2,
   "id": "e6dd8259",
   "metadata": {},
   "outputs": [
    {
     "name": "stderr",
     "output_type": "stream",
     "text": [
      "C:\\Users\\Rafiq\\AppData\\Local\\Temp\\ipykernel_14708\\447765346.py:5: LangChainDeprecationWarning: The class `ChatOpenAI` was deprecated in LangChain 0.0.10 and will be removed in 1.0. An updated version of the class exists in the :class:`~langchain-openai package and should be used instead. To use it run `pip install -U :class:`~langchain-openai` and import as `from :class:`~langchain_openai import ChatOpenAI``.\n",
      "  llm = ChatOpenAI(\n"
     ]
    }
   ],
   "source": [
    "from langchain_community.chat_models import ChatOpenAI\n",
    "from langchain.prompts import PromptTemplate\n",
    "from langchain.chains import LLMChain\n",
    "\n",
    "llm = ChatOpenAI(\n",
    "  openai_api_key=api,\n",
    "  openai_api_base=\"https://openrouter.ai/api/v1\",\n",
    "  model_name=\"deepseek/deepseek-r1-distill-llama-70b:free\"\n",
    "  \"\"\"model_kwargs={\n",
    "    \"headers\": {\n",
    "      \"HTTP-Referer\": getenv(\"YOUR_SITE_URL\"),\n",
    "      \"X-Title\": getenv(\"YOUR_SITE_NAME\"),\n",
    "    }\n",
    "  },\"\"\",\n",
    "  temperature=0\n",
    ")\n"
   ]
  },
  {
   "cell_type": "code",
   "execution_count": 3,
   "id": "c65bde46",
   "metadata": {},
   "outputs": [],
   "source": [
    "import pandas as pd\n",
    "df = pd.read_csv(\n",
    "    \"https://raw.githubusercontent.com/pandas-dev/pandas/main/doc/data/titanic.csv\"\n",
    ")"
   ]
  },
  {
   "cell_type": "code",
   "execution_count": 4,
   "id": "42f826d7",
   "metadata": {},
   "outputs": [
    {
     "data": {
      "text/html": [
       "<div>\n",
       "<style scoped>\n",
       "    .dataframe tbody tr th:only-of-type {\n",
       "        vertical-align: middle;\n",
       "    }\n",
       "\n",
       "    .dataframe tbody tr th {\n",
       "        vertical-align: top;\n",
       "    }\n",
       "\n",
       "    .dataframe thead th {\n",
       "        text-align: right;\n",
       "    }\n",
       "</style>\n",
       "<table border=\"1\" class=\"dataframe\">\n",
       "  <thead>\n",
       "    <tr style=\"text-align: right;\">\n",
       "      <th></th>\n",
       "      <th>PassengerId</th>\n",
       "      <th>Survived</th>\n",
       "      <th>Pclass</th>\n",
       "      <th>Name</th>\n",
       "      <th>Sex</th>\n",
       "      <th>Age</th>\n",
       "      <th>SibSp</th>\n",
       "      <th>Parch</th>\n",
       "      <th>Ticket</th>\n",
       "      <th>Fare</th>\n",
       "      <th>Cabin</th>\n",
       "      <th>Embarked</th>\n",
       "    </tr>\n",
       "  </thead>\n",
       "  <tbody>\n",
       "    <tr>\n",
       "      <th>0</th>\n",
       "      <td>1</td>\n",
       "      <td>0</td>\n",
       "      <td>3</td>\n",
       "      <td>Braund, Mr. Owen Harris</td>\n",
       "      <td>male</td>\n",
       "      <td>22.0</td>\n",
       "      <td>1</td>\n",
       "      <td>0</td>\n",
       "      <td>A/5 21171</td>\n",
       "      <td>7.2500</td>\n",
       "      <td>NaN</td>\n",
       "      <td>S</td>\n",
       "    </tr>\n",
       "    <tr>\n",
       "      <th>1</th>\n",
       "      <td>2</td>\n",
       "      <td>1</td>\n",
       "      <td>1</td>\n",
       "      <td>Cumings, Mrs. John Bradley (Florence Briggs Th...</td>\n",
       "      <td>female</td>\n",
       "      <td>38.0</td>\n",
       "      <td>1</td>\n",
       "      <td>0</td>\n",
       "      <td>PC 17599</td>\n",
       "      <td>71.2833</td>\n",
       "      <td>C85</td>\n",
       "      <td>C</td>\n",
       "    </tr>\n",
       "    <tr>\n",
       "      <th>2</th>\n",
       "      <td>3</td>\n",
       "      <td>1</td>\n",
       "      <td>3</td>\n",
       "      <td>Heikkinen, Miss Laina</td>\n",
       "      <td>female</td>\n",
       "      <td>26.0</td>\n",
       "      <td>0</td>\n",
       "      <td>0</td>\n",
       "      <td>STON/O2. 3101282</td>\n",
       "      <td>7.9250</td>\n",
       "      <td>NaN</td>\n",
       "      <td>S</td>\n",
       "    </tr>\n",
       "    <tr>\n",
       "      <th>3</th>\n",
       "      <td>4</td>\n",
       "      <td>1</td>\n",
       "      <td>1</td>\n",
       "      <td>Futrelle, Mrs. Jacques Heath (Lily May Peel)</td>\n",
       "      <td>female</td>\n",
       "      <td>35.0</td>\n",
       "      <td>1</td>\n",
       "      <td>0</td>\n",
       "      <td>113803</td>\n",
       "      <td>53.1000</td>\n",
       "      <td>C123</td>\n",
       "      <td>S</td>\n",
       "    </tr>\n",
       "    <tr>\n",
       "      <th>4</th>\n",
       "      <td>5</td>\n",
       "      <td>0</td>\n",
       "      <td>3</td>\n",
       "      <td>Allen, Mr. William Henry</td>\n",
       "      <td>male</td>\n",
       "      <td>35.0</td>\n",
       "      <td>0</td>\n",
       "      <td>0</td>\n",
       "      <td>373450</td>\n",
       "      <td>8.0500</td>\n",
       "      <td>NaN</td>\n",
       "      <td>S</td>\n",
       "    </tr>\n",
       "  </tbody>\n",
       "</table>\n",
       "</div>"
      ],
      "text/plain": [
       "   PassengerId  Survived  Pclass  \\\n",
       "0            1         0       3   \n",
       "1            2         1       1   \n",
       "2            3         1       3   \n",
       "3            4         1       1   \n",
       "4            5         0       3   \n",
       "\n",
       "                                                Name     Sex   Age  SibSp  \\\n",
       "0                            Braund, Mr. Owen Harris    male  22.0      1   \n",
       "1  Cumings, Mrs. John Bradley (Florence Briggs Th...  female  38.0      1   \n",
       "2                              Heikkinen, Miss Laina  female  26.0      0   \n",
       "3       Futrelle, Mrs. Jacques Heath (Lily May Peel)  female  35.0      1   \n",
       "4                           Allen, Mr. William Henry    male  35.0      0   \n",
       "\n",
       "   Parch            Ticket     Fare Cabin Embarked  \n",
       "0      0         A/5 21171   7.2500   NaN        S  \n",
       "1      0          PC 17599  71.2833   C85        C  \n",
       "2      0  STON/O2. 3101282   7.9250   NaN        S  \n",
       "3      0            113803  53.1000  C123        S  \n",
       "4      0            373450   8.0500   NaN        S  "
      ]
     },
     "execution_count": 4,
     "metadata": {},
     "output_type": "execute_result"
    }
   ],
   "source": [
    "df.head()"
   ]
  },
  {
   "cell_type": "markdown",
   "id": "aa567f7d",
   "metadata": {},
   "source": [
    "# <center> Home made tool calling </center>"
   ]
  },
  {
   "cell_type": "code",
   "execution_count": 5,
   "id": "cfbd3436",
   "metadata": {},
   "outputs": [],
   "source": [
    "#Let's start by defining a bunch of data analysis functions : \n",
    "\n",
    "import numpy as np\n",
    "\n",
    "def compute_mean(column: str) -> float:\n",
    "    \"\"\"Compute the mean of a column in the Titanic dataset.\"\"\"\n",
    "    return np.mean(df[column])\n",
    "\n",
    "def compute_median(column: str) -> float:\n",
    "    \"\"\"Compute the median of a column in the Titanic dataset.\"\"\"\n",
    "    return np.median(df[column])\n",
    "\n",
    "def compute_std(column: str) -> float:\n",
    "    \"\"\"Compute the standard deviation of a column in the Titanic dataset.\"\"\"\n",
    "    return np.std(df[column])\n",
    "\n",
    "def compute_max(column: str) -> float:  \n",
    "    \"\"\"Compute the maximum of a column in the Titanic dataset.\"\"\"\n",
    "    return np.max(df[column])\n",
    "\n",
    "def compute_min(column: str) -> float:\n",
    "    \"\"\"Compute the minimum of a column in the Titanic dataset.\"\"\"\n",
    "    return np.min(df[column])   \n",
    "\n",
    "def compute_count(column: str) -> int:\n",
    "    \"\"\"Compute the count of non-null values in a column in the Titanic dataset.\"\"\"\n",
    "    return df[column].count()\n",
    "\n",
    "def compute_unique(column: str) -> list:\n",
    "    \"\"\"Compute the unique values in a column in the Titanic dataset.\"\"\"\n",
    "    return df[column].unique().tolist()"
   ]
  },
  {
   "cell_type": "code",
   "execution_count": null,
   "id": "b927c423",
   "metadata": {},
   "outputs": [],
   "source": [
    "#Let's create some user examples to enmbed : \n",
    "\n",
    "mean_sentences = [\n",
    "    \"What is the mean of the column \\\"Age\\\" in the dataset?\",\n",
    "    \"Could you calculate the average value within the \\\"Age\\\" field?\",\n",
    "    \"What's the arithmetic mean hiding in our \\\"Age\\\" variable?\",\n",
    "    \"I'm curious about the expected value lurking in the \\\"Age\\\" attribute.\",\n",
    "    \"Please compute the central tendency of the \\\"Age\\\" feature.\",\n",
    "    \"What numerical center emerges from our \\\"Age\\\" dimension?\",\n",
    "    \"Calculate the typical value represented in the \\\"Age\\\" metric.\"\n",
    "]\n",
    "\n",
    "median_sentences = [\n",
    "    \"What's the median value of the \\\"Age\\\" column?\",\n",
    "    \"Could you find the middle point in our \\\"Age\\\" distribution?\",\n",
    "    \"What's the 50th percentile value sitting in the \\\"Age\\\" field?\",\n",
    "    \"What central figure divides our \\\"Age\\\" data into equal halves?\",\n",
    "    \"Please identify the midpoint value from the \\\"Age\\\" attribute.\",\n",
    "    \"What number creates perfect balance in our \\\"Age\\\" column?\",\n",
    "    \"Calculate the value that splits the \\\"Age\\\" data in half.\"\n",
    "]\n",
    "\n",
    "std_dev_sentences = [\n",
    "    \"What's the standard deviation of the \\\"Age\\\" column?\",\n",
    "    \"How much dispersion exists across the \\\"Age\\\" field?\",\n",
    "    \"Calculate the spread parameter for the \\\"Age\\\" variable.\",\n",
    "    \"What's the square root of variance in our \\\"Age\\\" metric?\",\n",
    "    \"Quantify the typical distance from the mean in our \\\"Age\\\" data.\",\n",
    "    \"How much does the \\\"Age\\\" data typically fluctuate from center?\",\n",
    "    \"What's the measure of variability within the \\\"Age\\\" attribute?\"\n",
    "]\n",
    "\n",
    "min_sentences = [\n",
    "    \"What's the minimum value in the \\\"Age\\\" column?\",\n",
    "    \"What's the lowest reading found in the \\\"Age\\\" field?\",\n",
    "    \"What's the smallest figure recorded in the \\\"Age\\\" attribute?\",\n",
    "    \"What's the bottom value sitting in our \\\"Age\\\" variable?\",\n",
    "    \"Please identify the floor value from the \\\"Age\\\" dimension.\",\n",
    "    \"What's the least measurement in our \\\"Age\\\" metric?\",\n",
    "    \"What absolute lower bound exists in the \\\"Age\\\" collection?\"\n",
    "]\n",
    "\n",
    "max_sentences = [\n",
    "    \"What's the maximum value in the \\\"Age\\\" column?\",\n",
    "    \"What's the highest measurement in our \\\"Age\\\" dataset?\",\n",
    "    \"What peak figure appears in the \\\"Age\\\" variable?\",\n",
    "    \"What's the ceiling value within the \\\"Age\\\" attribute?\",\n",
    "    \"Please identify the supreme reading from our \\\"Age\\\" metric.\",\n",
    "    \"What topmost measurement exists in our \\\"Age\\\" field?\",\n",
    "    \"What's the ultimate value in our \\\"Age\\\" dimension?\"\n",
    "]\n",
    "\n",
    "non_null_count_sentences = [\n",
    "    \"What's the count of non-null values in the \\\"Age\\\" column?\",\n",
    "    \"How many populated entries exist in the \\\"Age\\\" field?\",\n",
    "    \"What's the tally of present values in our \\\"Age\\\" attribute?\",\n",
    "    \"How many actual datapoints live in the \\\"Age\\\" dimension?\",\n",
    "    \"Calculate the quantity of non-missing records in our \\\"Age\\\" variable.\",\n",
    "    \"What's the census of populated cells in the \\\"Age\\\" metric?\",\n",
    "    \"How large is the collection of existing values in our \\\"Age\\\" registry?\"\n",
    "]\n",
    "\n",
    "unique_values_sentences = [\n",
    "    \"What's the unique value list for the \\\"Age\\\" column?\",\n",
    "    \"Show me the distinct entries found in the \\\"Age\\\" field.\",\n",
    "    \"What singular values comprise our \\\"Age\\\" attribute?\",\n",
    "    \"Enumerate the non-repeating items in our \\\"Age\\\" variable.\",\n",
    "    \"List the exclusive members within our \\\"Age\\\" dimension.\",\n",
    "    \"What's the catalog of individual values in our \\\"Age\\\" metric?\",\n",
    "    \"Display the one-of-a-kind entries from our \\\"Age\\\" registry.\"\n",
    "]\n",
    "\n",
    "#This approach gave us such results : Total tests: 60, Passed: 0.6833333333333333, Failed: 0.31666666666666665\n",
    "#Creating a virtual cluster with multiple expamples of the same function made them overlap. And max failed - for this approach rather try a mean or median (Find the closest cluster, not closest point)"
   ]
  },
  {
   "cell_type": "code",
   "execution_count": null,
   "id": "acf516d4",
   "metadata": {},
   "outputs": [],
   "source": [
    "synonym_string = [\n",
    "    #0\n",
    "    \"mean, average, mean value, arithmetic mean, typical value, expected value, central value, central tendency, average out to, overall mean, mean of the data, \",\n",
    "    #1\n",
    "    \"median, median value, middle value, 50th percentile, midpoint, value in the center, middlemost value, halfway value, center point, \",\n",
    "    #2\n",
    "    \"max, maximum, maximum value, highest value, largest number, top value, peak, upper bound, highest recorded value, extreme value, greatest value, \",\n",
    "    #3\n",
    "    \"standard deviation, std, variability, spread, dispersion, statistical spread, deviation from the mean, volatility, fluctuation, consistency measure, \",\n",
    "    #4\n",
    "    \"count, number of values, total entries, non-null count, filled rows, non-missing values, number of observations, row count, valid entries, total data points, data count, \",\n",
    "    #5\n",
    "    \"unique, unique values, distinct values, different entries, non-repeating values, unique items, all different values, value set, distinct numbers, set of unique entries, diversity in values\",\n",
    "    #6\n",
    "    \"min, minimum, minimum value, lowest value, smallest number, bottom value, floor, lower bound, least value, lowest recorded value, \"\n",
    "]\n",
    "\n",
    "#let's use \"blackholes\" approach, basically very precise points in space well in the middle of each function definition meaning\n",
    "#This approach has better results : Total tests: 60, Passed: 0.8, Failed: 0.2"
   ]
  },
  {
   "cell_type": "code",
   "execution_count": null,
   "id": "1d95e4ef",
   "metadata": {},
   "outputs": [],
   "source": [
    "#Last approach : synonym - sentence - inclusion. We'll move the coordinates of the embedding space a bit by wrapping the synonyms into a sentence, to fall closer to the user input.\n",
    "\n",
    "synonym_string = [\n",
    "    #0\n",
    "    \"\"\"What is the \"mean, average, mean value, arithmetic mean, typical value, expected value, central value, central tendency, average out to, overall mean, mean of the data \" Of the column \"Age\" in the dataset?\"\"\",\n",
    "    #1\n",
    "    \"\"\"What is the \"median, median value, middle value, 50th percentile, midpoint, value in the center, middlemost value, halfway value, center point\" Of the column \"Age\" in the dataset?\"\"\",\n",
    "    #2\n",
    "    \"\"\"What is the \"max, maximum, maximum value, highest value, largest number, top value, peak, upper bound, highest recorded value, extreme value, greatest value\" Of the column \"Age\" in the dataset?\"\"\",\n",
    "    #3\n",
    "    \"\"\"What is the \"standard deviation, std, variability, spread, dispersion, statistical spread, deviation from the mean, volatility, fluctuation, consistency measure\" Of the column \"Age\" in the dataset?\"\"\",\n",
    "    #4\n",
    "    \"\"\"What is the \"count, number of values, total entries, non-null count, filled rows, non-missing values, number of observations, row count, valid entries, total data points, data count\" Of the column \"Age\" in the dataset?\"\"\",\n",
    "    #5\n",
    "    \"\"\"What is the \"unique, unique values, distinct values, different entries, non-repeating values, unique items, all different values, value set, distinct numbers, set of unique entries, diversity in values\" Of the column \"Sex\" in the dataset?\"\"\",\n",
    "    #6\n",
    "    \"\"\"What is the \"min, minimum, minimum value, lowest value, smallest number, bottom value, floor, lower bound, least value, lowest recorded value\" Of the column \"Age\" in the dataset?\"\"\"\n",
    "]\n",
    "\n",
    "#Results : Total tests: 60, Passed: 0.85, Failed: 0.15"
   ]
  },
  {
   "cell_type": "code",
   "execution_count": null,
   "id": "17d606b2",
   "metadata": {},
   "outputs": [],
   "source": [
    "import inspect\n",
    "\n",
    "# Let's create a dictionary with the function definitions as strings, we'll also give then an example of how to call them in the prompt.\n",
    "function_definitions = {\n",
    "    \"compute_mean\": [inspect.getsource(compute_mean), \"\"\"user: What is the mean of the column \"Age\" in the dataset? \\n data scientist: ASKARABADINGDONG compute_mean column:Age\"\"\", synonym_string[0]],\n",
    "    \"compute_median\": [inspect.getsource(compute_median), \"\"\"user: What is the median of the column \"Age\" in the dataset? \\n data scientist: ASKARABADINGDONG compute_median column:Age\"\"\", synonym_string[1]],\n",
    "    \"compute_std\": [inspect.getsource(compute_std), \"\"\"user: What is the standard deviation of the column \"Age\" in the dataset? \\n data scientist: ASKARABADINGDONG compute_std column:Age\"\"\", synonym_string[3]],\n",
    "    \"compute_max\": [inspect.getsource(compute_max), \"\"\"user: What is the max of the column \"Age\" in the dataset? \\n data scientist: ASKARABADINGDONG compute_max column:Age\"\"\", synonym_string[2]],\n",
    "    \"compute_min\": [inspect.getsource(compute_min), \"\"\"user: What is the min of the column \"Age\" in the dataset? \\n data scientist: ASKARABADINGDONG compute_min column:Age\"\"\", synonym_string[6]],\n",
    "    \"compute_count\": [inspect.getsource(compute_count), \"\"\"user: What is the count in the column \"Age\" in the dataset? \\n data scientist: ASKARABADINGDONG compute_count column:Age\"\"\", synonym_string[4]],\n",
    "    \"compute_unique\": [inspect.getsource(compute_unique), \"\"\"user: What are the unique values in the column \"Sex\" in the dataset? \\n data scientist: ASKARABADINGDONG compute_unique column:Sex\"\"\", synonym_string[5]],\n",
    "}"
   ]
  },
  {
   "cell_type": "code",
   "execution_count": 10,
   "id": "3511ef41",
   "metadata": {},
   "outputs": [
    {
     "name": "stderr",
     "output_type": "stream",
     "text": [
      "c:\\Users\\Rafiq\\anaconda3-updated\\envs\\anaconda_llama_env\\Lib\\site-packages\\tqdm\\auto.py:21: TqdmWarning: IProgress not found. Please update jupyter and ipywidgets. See https://ipywidgets.readthedocs.io/en/stable/user_install.html\n",
      "  from .autonotebook import tqdm as notebook_tqdm\n"
     ]
    }
   ],
   "source": [
    "from sentence_transformers import SentenceTransformer\n",
    "\n",
    "# Your custom folder path\n",
    "custom_model_folder = r\"C:\\embeddingModel\"\n",
    "\n",
    "# Load and cache model to custom folder\n",
    "model = SentenceTransformer('sentence-transformers/all-MiniLM-L6-v2', cache_folder=custom_model_folder)"
   ]
  },
  {
   "cell_type": "code",
   "execution_count": 11,
   "id": "c90e742f",
   "metadata": {},
   "outputs": [],
   "source": [
    "#Let's create an embedding for the user's question, the \"...sentences\" variables exemple so we can get the most relevant function to call.\n",
    "embedding_list = []\n",
    "for value in function_definitions.values():\n",
    "    embedding = model.encode(value[2])\n",
    "    embedding_list.append(embedding)\n",
    "    value.append(embedding_list)\n",
    "    embedding_list = []"
   ]
  },
  {
   "cell_type": "code",
   "execution_count": 59,
   "id": "ecfe7477",
   "metadata": {},
   "outputs": [],
   "source": [
    "#For each function, we have 7 setences to embed, so we have 7 embeddings for each function. For each function, for each embedding we need to compute the cosine similarity with the user question embedding\n",
    "#Them for each function we need to get the max cosine similarity, and then we can get the function with the max cosine similarity.\n",
    "from sklearn.metrics.pairwise import cosine_similarity\n",
    "import numpy as np\n",
    "\n",
    "def get_most_similar_function(user_question: str) -> str:\n",
    "    # Embed the user question\n",
    "    user_question_embedding = model.encode(user_question)\n",
    "\n",
    "    # Initialize variables to track the most similar function and its similarity score\n",
    "    most_similar_function = None\n",
    "    max_similarity = -1\n",
    "\n",
    "    # Iterate through each function and its embeddings\n",
    "    for function_name, value in function_definitions.items():\n",
    "        # Compute cosine similarity for each embedding of the function\n",
    "        similarities = cosine_similarity([user_question_embedding], value[3])\n",
    "        max_function_similarity = np.max(similarities)\n",
    "\n",
    "        # Update if this function is more similar than the previous best\n",
    "        if max_function_similarity > max_similarity:\n",
    "            max_similarity = max_function_similarity\n",
    "            most_similar_function = function_name\n",
    "\n",
    "    return most_similar_function"
   ]
  },
  {
   "cell_type": "code",
   "execution_count": 12,
   "id": "bc16ff36",
   "metadata": {},
   "outputs": [],
   "source": [
    "#Only one sentence per function\n",
    "def get_most_relevant_function(user_question: str) -> str:\n",
    "    \"\"\"Get the most relevant function to call based on the user's question.\"\"\"\n",
    "    user_embedding = model.encode(user_question)\n",
    "    similarities = []\n",
    "    for value in function_definitions.values():\n",
    "        similarity = cosine_similarity([user_embedding], [value[3][0]])[0][0]\n",
    "        similarities.append(similarity)\n",
    "    most_relevant_function = list(function_definitions.keys())[np.argmax(similarities)]\n",
    "    return most_relevant_function"
   ]
  },
  {
   "cell_type": "code",
   "execution_count": 13,
   "id": "cc125692",
   "metadata": {},
   "outputs": [],
   "source": [
    "#Let's try it out :\n",
    "tests = [\n",
    "    # compute_max\n",
    "    [\"Find the highest value in 'Salary'\", \"compute_max\"],\n",
    "    [\"What’s the maximum in 'Height'\", \"compute_max\"],\n",
    "    [\"Give me the max of 'Exam Score'\", \"compute_max\"],\n",
    "    [\"Top value in 'Temperature'\", \"compute_max\"],\n",
    "    [\"Largest number in the column 'Revenue'\", \"compute_max\"],\n",
    "    [\"Highest recorded value for 'Speed'\", \"compute_max\"],\n",
    "    [\"Show the peak value from 'Stock Price'\", \"compute_max\"],\n",
    "    [\"What is the upper bound of 'Age'\", \"compute_max\"],\n",
    "    [\"What's the extreme high value in 'Distance'\", \"compute_max\"],\n",
    "    [\"Get the greatest value in 'Response Time'\", \"compute_max\"],\n",
    "\n",
    "    # compute_mean\n",
    "    [\"Calculate the average for 'Salary'\", \"compute_mean\"],\n",
    "    [\"What’s the mean of 'Height'\", \"compute_mean\"],\n",
    "    [\"Give me the average of the column 'Exam Score'\", \"compute_mean\"],\n",
    "    [\"Typical value in 'Temperature'\", \"compute_mean\"],\n",
    "    [\"Find the arithmetic mean for 'Revenue'\", \"compute_mean\"],\n",
    "    [\"What is the expected value in 'Speed'\", \"compute_mean\"],\n",
    "    [\"On average, what is the 'Stock Price'?\", \"compute_mean\"],\n",
    "    [\"Compute the central tendency (mean) for 'Age'\", \"compute_mean\"],\n",
    "    [\"What does 'Distance' average out to?\", \"compute_mean\"],\n",
    "    [\"Show me the mean value of 'Response Time'\", \"compute_mean\"],\n",
    "\n",
    "    # compute_median\n",
    "    [\"Get the median of 'Salary'\", \"compute_median\"],\n",
    "    [\"Middle value in 'Height'\", \"compute_median\"],\n",
    "    [\"What’s the central value in 'Exam Score'?\", \"compute_median\"],\n",
    "    [\"Find the 50th percentile of 'Temperature'\", \"compute_median\"],\n",
    "    [\"What’s the value halfway through 'Revenue'?\", \"compute_median\"],\n",
    "    [\"Compute the median value of the 'Speed' column\", \"compute_median\"],\n",
    "    [\"Show the central tendency (median) of 'Stock Price'\", \"compute_median\"],\n",
    "    [\"What’s the value that splits 'Age' in half?\", \"compute_median\"],\n",
    "    [\"Get the midpoint value for 'Distance'\", \"compute_median\"],\n",
    "    [\"Return the center value in 'Response Time'\", \"compute_median\"],\n",
    "\n",
    "    # compute_std\n",
    "    [\"How much does 'Salary' vary?\", \"compute_std\"],\n",
    "    [\"What is the standard deviation of 'Height'?\", \"compute_std\"],\n",
    "    [\"Find the spread of 'Exam Score'\", \"compute_std\"],\n",
    "    [\"Compute how dispersed 'Temperature' values are\", \"compute_std\"],\n",
    "    [\"Measure the variability in 'Revenue'\", \"compute_std\"],\n",
    "    [\"How consistent is 'Speed'?\", \"compute_std\"],\n",
    "    [\"Get the deviation from the mean for 'Stock Price'\", \"compute_std\"],\n",
    "    [\"Show me the standard deviation in the 'Age' column\", \"compute_std\"],\n",
    "    [\"What’s the volatility of 'Distance'?\", \"compute_std\"],\n",
    "    [\"How much fluctuation is in 'Response Time'?\", \"compute_std\"],\n",
    "\n",
    "    # compute_count\n",
    "    [\"How many values are there in 'Salary'?\", \"compute_count\"],\n",
    "    [\"Count the non-null entries in 'Height'\", \"compute_count\"],\n",
    "    [\"Give me the number of filled rows in 'Exam Score'\", \"compute_count\"],\n",
    "    [\"What’s the size of the 'Temperature' column?\", \"compute_count\"],\n",
    "    [\"Compute the number of valid entries in 'Revenue'\", \"compute_count\"],\n",
    "    [\"How many observations are recorded in 'Speed'?\", \"compute_count\"],\n",
    "    [\"Get the count of 'Stock Price'\", \"compute_count\"],\n",
    "    [\"Total number of data points in 'Age'\", \"compute_count\"],\n",
    "    [\"Show how many rows contain 'Distance'\", \"compute_count\"],\n",
    "    [\"How many non-missing values exist in 'Response Time'?\", \"compute_count\"],\n",
    "\n",
    "    # compute_unique\n",
    "    [\"What are the unique values in 'Salary'?\", \"compute_unique\"],\n",
    "    [\"List all distinct entries in 'Height'\", \"compute_unique\"],\n",
    "    [\"Give me all the different values from 'Exam Score'\", \"compute_unique\"],\n",
    "    [\"What are the unique items in 'Temperature'?\", \"compute_unique\"],\n",
    "    [\"Show the set of unique values in the 'Revenue' column\", \"compute_unique\"],\n",
    "    [\"What values appear at least once in 'Speed'?\", \"compute_unique\"],\n",
    "    [\"Find the distinct numbers used in 'Stock Price'\", \"compute_unique\"],\n",
    "    [\"List non-repeating values in 'Age'\", \"compute_unique\"],\n",
    "    [\"Get the set of all unique data points in 'Distance'\", \"compute_unique\"],\n",
    "    [\"Which values occur in 'Response Time'?\", \"compute_unique\"]\n",
    "]"
   ]
  },
  {
   "cell_type": "code",
   "execution_count": 15,
   "id": "239deb71",
   "metadata": {},
   "outputs": [
    {
     "name": "stdout",
     "output_type": "stream",
     "text": [
      "Test failed for question: What’s the mean of 'Height'\n",
      "Expected: compute_mean, Got: compute_max\n",
      "Test failed for question: How much does 'Salary' vary?\n",
      "Expected: compute_std, Got: compute_median\n",
      "Test failed for question: Find the spread of 'Exam Score'\n",
      "Expected: compute_std, Got: compute_median\n",
      "Test failed for question: How many values are there in 'Salary'?\n",
      "Expected: compute_count, Got: compute_median\n",
      "Test failed for question: What’s the size of the 'Temperature' column?\n",
      "Expected: compute_count, Got: compute_std\n",
      "Test failed for question: Give me all the different values from 'Exam Score'\n",
      "Expected: compute_unique, Got: compute_median\n",
      "Test failed for question: What values appear at least once in 'Speed'?\n",
      "Expected: compute_unique, Got: compute_min\n",
      "Test failed for question: List non-repeating values in 'Age'\n",
      "Expected: compute_unique, Got: compute_min\n",
      "Test failed for question: Which values occur in 'Response Time'?\n",
      "Expected: compute_unique, Got: compute_mean\n"
     ]
    }
   ],
   "source": [
    "from sklearn.metrics.pairwise import cosine_similarity\n",
    "import numpy as np\n",
    "\n",
    "passed = 0\n",
    "failed = 0\n",
    "\n",
    "for test in tests:\n",
    "    user_question, expected_function = test\n",
    "    most_relevant_function = get_most_relevant_function(user_question)\n",
    "    if(most_relevant_function != expected_function): \n",
    "        print(f\"Test failed for question: {user_question}\")\n",
    "        print(f\"Expected: {expected_function}, Got: {most_relevant_function}\")\n",
    "        failed = failed + 1\n",
    "    else:\n",
    "        passed = passed + 1"
   ]
  },
  {
   "cell_type": "code",
   "execution_count": 16,
   "id": "74f89c8a",
   "metadata": {},
   "outputs": [
    {
     "name": "stdout",
     "output_type": "stream",
     "text": [
      "Total tests: 60, Passed: 0.85, Failed: 0.15\n"
     ]
    }
   ],
   "source": [
    "#We're not there yet...\n",
    "total = passed + failed\n",
    "print(f\"Total tests: {total}, Passed: {passed/total}, Failed: {failed/total}\")"
   ]
  },
  {
   "cell_type": "code",
   "execution_count": 17,
   "id": "bc236cc9",
   "metadata": {},
   "outputs": [],
   "source": [
    "#What if we do a top n instead ? \n",
    "\n",
    "def get_top_n_functions(user_question: str, n=2) -> list:\n",
    "    \"\"\"Get the top N most relevant functions to call based on the user's question.\"\"\"\n",
    "    user_embedding = model.encode(user_question)\n",
    "    similarities = []\n",
    "    for value in function_definitions.values():\n",
    "        similarity = cosine_similarity([user_embedding], [value[3][0]])[0][0]\n",
    "        similarities.append(similarity)\n",
    "    top_n_indices = np.argsort(similarities)[-n:][::-1]\n",
    "    top_n_functions = [list(function_definitions.keys())[i] for i in top_n_indices]\n",
    "    return top_n_functions"
   ]
  },
  {
   "cell_type": "code",
   "execution_count": 27,
   "id": "55b1b32d",
   "metadata": {},
   "outputs": [
    {
     "name": "stdout",
     "output_type": "stream",
     "text": [
      "Test failed for question: How much does 'Salary' vary?\n",
      "Expected: compute_std, Got: ['compute_median', 'compute_max', 'compute_mean', 'compute_unique', 'compute_min']\n",
      "Test failed for question: What’s the size of the 'Temperature' column?\n",
      "Expected: compute_count, Got: ['compute_std', 'compute_median', 'compute_max', 'compute_min', 'compute_mean']\n",
      "Test failed for question: Give me all the different values from 'Exam Score'\n",
      "Expected: compute_unique, Got: ['compute_median', 'compute_mean', 'compute_max', 'compute_count', 'compute_min']\n",
      "Test failed for question: Which values occur in 'Response Time'?\n",
      "Expected: compute_unique, Got: ['compute_mean', 'compute_min', 'compute_max', 'compute_median', 'compute_count']\n"
     ]
    }
   ],
   "source": [
    "#let's do the test with top 2 : \n",
    "\n",
    "passed = 0\n",
    "failed = 0\n",
    "\n",
    "for test in tests:\n",
    "    user_question, expected_function = test\n",
    "    most_relevant_functions = get_top_n_functions(user_question, 5)\n",
    "    if(str(expected_function) not in most_relevant_functions): \n",
    "        print(f\"Test failed for question: {user_question}\")\n",
    "        print(f\"Expected: {expected_function}, Got: {most_relevant_functions}\")\n",
    "        failed = failed + 1\n",
    "    else:\n",
    "        passed = passed + 1"
   ]
  },
  {
   "cell_type": "code",
   "execution_count": 26,
   "id": "32b0f736",
   "metadata": {},
   "outputs": [
    {
     "name": "stdout",
     "output_type": "stream",
     "text": [
      "Total tests: 60, Passed: 0.9, Failed: 0.1\n"
     ]
    }
   ],
   "source": [
    "print(f\"Total tests: {total}, Passed: {passed/total}, Failed: {failed/total}\")"
   ]
  },
  {
   "cell_type": "markdown",
   "id": "7be98106",
   "metadata": {},
   "source": [
    "We can see that going for top 2 or top 3 doesn't improve the performance that much.\n",
    "The embedding model still has trouble to understand \"compute_unique\" \"and compute_count\".\n",
    "\n",
    "But that's OKAY. Even if the best function is not found the LLM can get it by intuition (or not actually)"
   ]
  },
  {
   "cell_type": "code",
   "execution_count": null,
   "id": "56259434",
   "metadata": {},
   "outputs": [],
   "source": [
    "#Let's create a prompt template to generate the function calls\n",
    "\n",
    "def prompt_function_call(n, function_list, function_definitions):\n",
    "    \"\"\"Generate a prompt for the LLM to call the most relevant function.\"\"\"\n",
    "    introduction = \"You are a data scientist. You are capable of analyzing data and providing insights.\\nYou also have tools to gain insights from data, the tools are python functions.\\nBelow is the list of tools:\"\n",
    "    tools = -\"-----start of tools------\\n\"\n",
    "    for i in range(n):\n",
    "        function_name = function_list[i]\n",
    "        function_code = function_definitions[function_name][0]\n",
    "        tools = tools + f\"def {function_name}:\\n{function_code}\\n\"\n",
    "    tools = tools + \"-------end of tools-------\\n\"\n",
    "    prompt = introduction + tools + \"\"\"If you feel like you need to use a tool, answer only by saying ASKARABADINGDONG and then the name of the tool you want to use and which arguments you want to pass to it,\n",
    "    no explanation, no other text.\\nExample: \\n ----------start of examples----------\"\"\"\n",
    "\n",
    "    for j in range(n):\n",
    "        function_name = function_list[j]\n",
    "        example = function_definitions[function_name][1]\n",
    "        prompt = prompt + f\"\\n{example}\\n\"\n",
    "    prompt = prompt + \"----------end of examples----------\\n\"\n",
    "    prompt = \"Else, answer the question directly. Never say ASKARABADINGDONG if you don't need to use a tool.\\n\\nHere's the question from the user:\" + str(user_question)\n",
    "    return prompt\n"
   ]
  },
  {
   "cell_type": "code",
   "execution_count": 40,
   "id": "e492d29c",
   "metadata": {},
   "outputs": [
    {
     "name": "stdout",
     "output_type": "stream",
     "text": [
      "content='ASKARABADINGDONG compute_mean column:Age' additional_kwargs={} response_metadata={'token_usage': {'completion_tokens': 112, 'prompt_tokens': 221, 'total_tokens': 333, 'completion_tokens_details': None, 'prompt_tokens_details': None}, 'model_name': 'deepseek/deepseek-r1-distill-llama-70b:freemodel_kwargs={\\n    \"headers\": {\\n      \"HTTP-Referer\": getenv(\"YOUR_SITE_URL\"),\\n      \"X-Title\": getenv(\"YOUR_SITE_NAME\"),\\n    }\\n  },', 'system_fingerprint': None, 'finish_reason': 'stop', 'logprobs': None} id='run-68724325-d381-419d-9307-d864de3f7aeb-0'\n"
     ]
    }
   ],
   "source": [
    "ai_message = llm.invoke(prompt)\n",
    "print(ai_message)"
   ]
  },
  {
   "cell_type": "code",
   "execution_count": null,
   "id": "ee6e18b8",
   "metadata": {},
   "outputs": [
    {
     "name": "stdout",
     "output_type": "stream",
     "text": [
      "The mean of the column column is 29.69911764705882\n"
     ]
    }
   ],
   "source": [
    "import inspect\n",
    "import numpy as np\n",
    "def compute_mean(column: str) -> float:\n",
    "    \"\"\"Compute the mean of a column in the Titanic dataset.\"\"\"\n",
    "    return np.mean(df[column])\n",
    "\n",
    "if (ai_message.content.__contains__(\"ASKARABADINGDONG\")):\n",
    "    # Extract the function name and arguments from the AI message\n",
    "    function_call = ai_message.content.split(\" \")[1]\n",
    "    \n",
    "    #get function to call\n",
    "    fnToCall = globals()[function_call]\n",
    "    #get function arguments\n",
    "    \n",
    "    #get function signature\n",
    "    signature = inspect.signature(fnToCall)\n",
    "    #get function arguments\n",
    "    fnArgs = list(signature.parameters.keys())\n",
    "    #in this exemple there is only one argument, so we can get it directly\n",
    "    arg = fnArgs[0]\n",
    "    #get the value of the argument from the AI message\n",
    "    argValue = ai_message.content.split(arg + \":\")[1].split(\" \")[0]\n",
    "    #call the function with the argument value\n",
    "    result = fnToCall(argValue)\n",
    "    #print the result\n",
    "    print(f\"The mean of the column {arg} is {result}\")"
   ]
  },
  {
   "cell_type": "code",
   "execution_count": 42,
   "id": "6790f4bb",
   "metadata": {},
   "outputs": [
    {
     "data": {
      "text/plain": [
       "np.float64(29.69911764705882)"
      ]
     },
     "execution_count": 42,
     "metadata": {},
     "output_type": "execute_result"
    }
   ],
   "source": [
    "np.mean(df[\"Age\"])"
   ]
  },
  {
   "cell_type": "code",
   "execution_count": 34,
   "id": "f23ad48b",
   "metadata": {},
   "outputs": [
    {
     "name": "stdout",
     "output_type": "stream",
     "text": [
      "['column']\n"
     ]
    }
   ],
   "source": [
    "print(list(signature.parameters.keys()))"
   ]
  },
  {
   "cell_type": "code",
   "execution_count": 14,
   "id": "74d7a49a",
   "metadata": {},
   "outputs": [
    {
     "ename": "NotImplementedError",
     "evalue": "",
     "output_type": "error",
     "traceback": [
      "\u001b[31m---------------------------------------------------------------------------\u001b[39m",
      "\u001b[31mNotImplementedError\u001b[39m                       Traceback (most recent call last)",
      "\u001b[36mCell\u001b[39m\u001b[36m \u001b[39m\u001b[32mIn[14]\u001b[39m\u001b[32m, line 16\u001b[39m\n\u001b[32m     13\u001b[39m     \u001b[38;5;28;01mreturn\u001b[39;00m np.mean(df[column])\n\u001b[32m     15\u001b[39m \u001b[38;5;66;03m#bind the tool to the llm\u001b[39;00m\n\u001b[32m---> \u001b[39m\u001b[32m16\u001b[39m llm_with_tools = \u001b[43mllm\u001b[49m\u001b[43m.\u001b[49m\u001b[43mbind_tools\u001b[49m\u001b[43m(\u001b[49m\n\u001b[32m     17\u001b[39m \u001b[43m    \u001b[49m\u001b[43mtools\u001b[49m\u001b[43m=\u001b[49m\u001b[43m[\u001b[49m\u001b[43mcompute_mean\u001b[49m\u001b[43m]\u001b[49m\u001b[43m,\u001b[49m\n\u001b[32m     18\u001b[39m \u001b[43m    \u001b[49m\u001b[43mtool_choice\u001b[49m\u001b[43m=\u001b[49m\u001b[43m{\u001b[49m\u001b[33;43m\"\u001b[39;49m\u001b[33;43mtype\u001b[39;49m\u001b[33;43m\"\u001b[39;49m\u001b[43m:\u001b[49m\u001b[43m \u001b[49m\u001b[33;43m\"\u001b[39;49m\u001b[33;43mfunction\u001b[39;49m\u001b[33;43m\"\u001b[39;49m\u001b[43m,\u001b[49m\u001b[43m \u001b[49m\u001b[33;43m\"\u001b[39;49m\u001b[33;43mfunction\u001b[39;49m\u001b[33;43m\"\u001b[39;49m\u001b[43m:\u001b[49m\u001b[43m \u001b[49m\u001b[43m{\u001b[49m\u001b[33;43m\"\u001b[39;49m\u001b[33;43mname\u001b[39;49m\u001b[33;43m\"\u001b[39;49m\u001b[43m:\u001b[49m\u001b[43m \u001b[49m\u001b[33;43m\"\u001b[39;49m\u001b[33;43mcompute_mean\u001b[39;49m\u001b[33;43m\"\u001b[39;49m\u001b[43m}\u001b[49m\u001b[43m}\u001b[49m\u001b[43m,\u001b[49m\n\u001b[32m     19\u001b[39m \u001b[43m)\u001b[49m\n",
      "\u001b[36mFile \u001b[39m\u001b[32mc:\\Users\\Rafiq\\anaconda3-updated\\envs\\anaconda_llama_env\\Lib\\site-packages\\langchain_core\\language_models\\chat_models.py:1315\u001b[39m, in \u001b[36mBaseChatModel.bind_tools\u001b[39m\u001b[34m(self, tools, tool_choice, **kwargs)\u001b[39m\n\u001b[32m   1297\u001b[39m \u001b[38;5;28;01mdef\u001b[39;00m\u001b[38;5;250m \u001b[39m\u001b[34mbind_tools\u001b[39m(\n\u001b[32m   1298\u001b[39m     \u001b[38;5;28mself\u001b[39m,\n\u001b[32m   1299\u001b[39m     tools: Sequence[\n\u001b[32m   (...)\u001b[39m\u001b[32m   1304\u001b[39m     **kwargs: Any,\n\u001b[32m   1305\u001b[39m ) -> Runnable[LanguageModelInput, BaseMessage]:\n\u001b[32m   1306\u001b[39m \u001b[38;5;250m    \u001b[39m\u001b[33;03m\"\"\"Bind tools to the model.\u001b[39;00m\n\u001b[32m   1307\u001b[39m \n\u001b[32m   1308\u001b[39m \u001b[33;03m    Args:\u001b[39;00m\n\u001b[32m   (...)\u001b[39m\u001b[32m   1313\u001b[39m \u001b[33;03m        A Runnable that returns a message.\u001b[39;00m\n\u001b[32m   1314\u001b[39m \u001b[33;03m    \"\"\"\u001b[39;00m\n\u001b[32m-> \u001b[39m\u001b[32m1315\u001b[39m     \u001b[38;5;28;01mraise\u001b[39;00m \u001b[38;5;167;01mNotImplementedError\u001b[39;00m\n",
      "\u001b[31mNotImplementedError\u001b[39m: "
     ]
    }
   ],
   "source": [
    "from pydantic import BaseModel, Field\n",
    "from langchain_core.tools import tool\n",
    "import numpy as np\n",
    "\n",
    "#Define inputs as a class\n",
    "class MeanInput(BaseModel):\n",
    "    column: str = Field(description=\"The column to calculate the mean of\", exemple=\"age\")\n",
    "\n",
    "#Use predefined schema \n",
    "@tool(\"compute_mean\", args_schema=MeanInput)\n",
    "def compute_mean(column: str) -> float:\n",
    "    \"\"\"Compute the mean of a column in the Titanic dataset.\"\"\"\n",
    "    return np.mean(df[column])\n",
    "\n",
    "#bind the tool to the llm\n",
    "llm_with_tools = llm.bind_tools(\n",
    "    tools=[compute_mean],\n",
    "    tool_choice={\"type\": \"function\", \"function\": {\"name\": \"compute_mean\"}},\n",
    ")"
   ]
  }
 ],
 "metadata": {
  "kernelspec": {
   "display_name": "anaconda_llama_env",
   "language": "python",
   "name": "python3"
  },
  "language_info": {
   "codemirror_mode": {
    "name": "ipython",
    "version": 3
   },
   "file_extension": ".py",
   "mimetype": "text/x-python",
   "name": "python",
   "nbconvert_exporter": "python",
   "pygments_lexer": "ipython3",
   "version": "3.13.2"
  }
 },
 "nbformat": 4,
 "nbformat_minor": 5
}
